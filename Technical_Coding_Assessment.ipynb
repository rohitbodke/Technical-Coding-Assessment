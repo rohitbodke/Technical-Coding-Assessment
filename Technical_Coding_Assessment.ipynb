{
  "nbformat": 4,
  "nbformat_minor": 0,
  "metadata": {
    "colab": {
      "provenance": [],
      "authorship_tag": "ABX9TyPnN9EMeb4lpQJgAlSkqcPN",
      "include_colab_link": true
    },
    "kernelspec": {
      "name": "python3",
      "display_name": "Python 3"
    },
    "language_info": {
      "name": "python"
    }
  },
  "cells": [
    {
      "cell_type": "markdown",
      "metadata": {
        "id": "view-in-github",
        "colab_type": "text"
      },
      "source": [
        "<a href=\"https://colab.research.google.com/github/rohitbodke/Technical-Coding-Assessment/blob/main/Technical_Coding_Assessment.ipynb\" target=\"_parent\"><img src=\"https://colab.research.google.com/assets/colab-badge.svg\" alt=\"Open In Colab\"/></a>"
      ]
    },
    {
      "cell_type": "code",
      "execution_count": 1,
      "metadata": {
        "colab": {
          "base_uri": "https://localhost:8080/"
        },
        "id": "qPZ7Ak5oSnMH",
        "outputId": "594c6afe-7eaf-488d-dede-11d198487e01"
      },
      "outputs": [
        {
          "output_type": "stream",
          "name": "stdout",
          "text": [
            "Enter the integer value and string count same example :- integer = 4 then string = great,hello,hiyo,abc..\n",
            "Enter the the number of element (integer) : 4\n",
            "4\n",
            "Enter the string example - great,hello,hiyo,abc.. :  my,his,you,bus\n",
            "final output as sorted string is : ['his', 'my', 'you', 'bus']\n"
          ]
        }
      ],
      "source": [
        "print('Enter the integer value and string count same example :- integer = 4 then string = great,hello,hiyo,abc..')\n",
        "input1 = int(input('Enter the the number of element (integer) : '))\n",
        "print(input1)\n",
        "x = (input('Enter the string example - great,hello,hiyo,abc.. :  '))\n",
        "x = x.split(',')\n",
        "x.sort(key=lambda a:a[-2])\n",
        "if len(x) == input1:\n",
        "  print(f'final output as sorted string is : {x}')\n",
        "else:\n",
        "  print('more or less number of string element ,please enter the integer value times the string elements')\n"
      ]
    }
  ]
}